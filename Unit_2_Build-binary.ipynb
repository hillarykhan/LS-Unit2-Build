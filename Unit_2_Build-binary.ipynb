{
 "cells": [
  {
   "cell_type": "markdown",
   "metadata": {},
   "source": [
    "### Begin to clean and explore your data."
   ]
  },
  {
   "cell_type": "code",
   "execution_count": 12,
   "metadata": {},
   "outputs": [
    {
     "name": "stdout",
     "output_type": "stream",
     "text": [
      "Requirement already satisfied: category-encoders in /Users/hillarykhan/.local/share/virtualenvs/DS-unit2-sprint3-yZlyocRh/lib/python3.8/site-packages (2.2.2)\n",
      "Requirement already satisfied: patsy>=0.5.1 in /Users/hillarykhan/.local/share/virtualenvs/DS-unit2-sprint3-yZlyocRh/lib/python3.8/site-packages (from category-encoders) (0.5.1)\n",
      "Requirement already satisfied: scipy>=1.0.0 in /Users/hillarykhan/.local/share/virtualenvs/DS-unit2-sprint3-yZlyocRh/lib/python3.8/site-packages (from category-encoders) (1.5.4)\n",
      "Requirement already satisfied: pandas>=0.21.1 in /Users/hillarykhan/.local/share/virtualenvs/DS-unit2-sprint3-yZlyocRh/lib/python3.8/site-packages (from category-encoders) (1.1.4)\n",
      "Requirement already satisfied: numpy>=1.14.0 in /Users/hillarykhan/.local/share/virtualenvs/DS-unit2-sprint3-yZlyocRh/lib/python3.8/site-packages (from category-encoders) (1.19.4)\n",
      "Requirement already satisfied: scikit-learn>=0.20.0 in /Users/hillarykhan/.local/share/virtualenvs/DS-unit2-sprint3-yZlyocRh/lib/python3.8/site-packages (from category-encoders) (0.23.2)\n",
      "Requirement already satisfied: statsmodels>=0.9.0 in /Users/hillarykhan/.local/share/virtualenvs/DS-unit2-sprint3-yZlyocRh/lib/python3.8/site-packages (from category-encoders) (0.12.1)\n",
      "Requirement already satisfied: python-dateutil>=2.7.3 in /Users/hillarykhan/.local/share/virtualenvs/DS-unit2-sprint3-yZlyocRh/lib/python3.8/site-packages (from pandas>=0.21.1->category-encoders) (2.8.1)\n",
      "Requirement already satisfied: pytz>=2017.2 in /Users/hillarykhan/.local/share/virtualenvs/DS-unit2-sprint3-yZlyocRh/lib/python3.8/site-packages (from pandas>=0.21.1->category-encoders) (2020.4)\n",
      "Requirement already satisfied: six in /Users/hillarykhan/.local/share/virtualenvs/DS-unit2-sprint3-yZlyocRh/lib/python3.8/site-packages (from patsy>=0.5.1->category-encoders) (1.15.0)\n",
      "Requirement already satisfied: threadpoolctl>=2.0.0 in /Users/hillarykhan/.local/share/virtualenvs/DS-unit2-sprint3-yZlyocRh/lib/python3.8/site-packages (from scikit-learn>=0.20.0->category-encoders) (2.1.0)\n",
      "Requirement already satisfied: joblib>=0.11 in /Users/hillarykhan/.local/share/virtualenvs/DS-unit2-sprint3-yZlyocRh/lib/python3.8/site-packages (from scikit-learn>=0.20.0->category-encoders) (0.17.0)\n",
      "Requirement already satisfied: pdpbox in /Users/hillarykhan/.local/share/virtualenvs/DS-unit2-sprint3-yZlyocRh/lib/python3.8/site-packages (0.2.0)\n",
      "Requirement already satisfied: scikit-learn in /Users/hillarykhan/.local/share/virtualenvs/DS-unit2-sprint3-yZlyocRh/lib/python3.8/site-packages (from pdpbox) (0.23.2)\n",
      "Requirement already satisfied: psutil in /Users/hillarykhan/.local/share/virtualenvs/DS-unit2-sprint3-yZlyocRh/lib/python3.8/site-packages (from pdpbox) (5.8.0)\n",
      "Requirement already satisfied: scipy in /Users/hillarykhan/.local/share/virtualenvs/DS-unit2-sprint3-yZlyocRh/lib/python3.8/site-packages (from pdpbox) (1.5.4)\n",
      "Requirement already satisfied: pandas in /Users/hillarykhan/.local/share/virtualenvs/DS-unit2-sprint3-yZlyocRh/lib/python3.8/site-packages (from pdpbox) (1.1.4)\n",
      "Requirement already satisfied: matplotlib>=2.1.2 in /Users/hillarykhan/.local/share/virtualenvs/DS-unit2-sprint3-yZlyocRh/lib/python3.8/site-packages (from pdpbox) (3.3.2)\n",
      "Requirement already satisfied: numpy in /Users/hillarykhan/.local/share/virtualenvs/DS-unit2-sprint3-yZlyocRh/lib/python3.8/site-packages (from pdpbox) (1.19.4)\n",
      "Requirement already satisfied: joblib in /Users/hillarykhan/.local/share/virtualenvs/DS-unit2-sprint3-yZlyocRh/lib/python3.8/site-packages (from pdpbox) (0.17.0)\n",
      "Requirement already satisfied: pillow>=6.2.0 in /Users/hillarykhan/.local/share/virtualenvs/DS-unit2-sprint3-yZlyocRh/lib/python3.8/site-packages (from matplotlib>=2.1.2->pdpbox) (8.0.1)\n",
      "Requirement already satisfied: kiwisolver>=1.0.1 in /Users/hillarykhan/.local/share/virtualenvs/DS-unit2-sprint3-yZlyocRh/lib/python3.8/site-packages (from matplotlib>=2.1.2->pdpbox) (1.3.1)\n",
      "Requirement already satisfied: certifi>=2020.06.20 in /Users/hillarykhan/.local/share/virtualenvs/DS-unit2-sprint3-yZlyocRh/lib/python3.8/site-packages (from matplotlib>=2.1.2->pdpbox) (2020.11.8)\n",
      "Requirement already satisfied: cycler>=0.10 in /Users/hillarykhan/.local/share/virtualenvs/DS-unit2-sprint3-yZlyocRh/lib/python3.8/site-packages (from matplotlib>=2.1.2->pdpbox) (0.10.0)\n",
      "Requirement already satisfied: pyparsing!=2.0.4,!=2.1.2,!=2.1.6,>=2.0.3 in /Users/hillarykhan/.local/share/virtualenvs/DS-unit2-sprint3-yZlyocRh/lib/python3.8/site-packages (from matplotlib>=2.1.2->pdpbox) (2.4.7)\n",
      "Requirement already satisfied: python-dateutil>=2.1 in /Users/hillarykhan/.local/share/virtualenvs/DS-unit2-sprint3-yZlyocRh/lib/python3.8/site-packages (from matplotlib>=2.1.2->pdpbox) (2.8.1)\n",
      "Requirement already satisfied: six in /Users/hillarykhan/.local/share/virtualenvs/DS-unit2-sprint3-yZlyocRh/lib/python3.8/site-packages (from cycler>=0.10->matplotlib>=2.1.2->pdpbox) (1.15.0)\n",
      "Requirement already satisfied: pytz>=2017.2 in /Users/hillarykhan/.local/share/virtualenvs/DS-unit2-sprint3-yZlyocRh/lib/python3.8/site-packages (from pandas->pdpbox) (2020.4)\n",
      "Requirement already satisfied: threadpoolctl>=2.0.0 in /Users/hillarykhan/.local/share/virtualenvs/DS-unit2-sprint3-yZlyocRh/lib/python3.8/site-packages (from scikit-learn->pdpbox) (2.1.0)\n"
     ]
    }
   ],
   "source": [
    "### Install \n",
    "!pip install category-encoders\n",
    "!pip install pdpbox"
   ]
  },
  {
   "cell_type": "code",
   "execution_count": 13,
   "metadata": {},
   "outputs": [],
   "source": [
    "### Import libraries\n",
    "\n",
    "import pandas as pd\n",
    "import numpy as np\n",
    "import datetime as dt\n",
    "import matplotlib.pyplot as plt\n",
    "\n",
    "from sklearn.compose import ColumnTransformer\n",
    "from sklearn.pipeline import make_pipeline\n",
    "\n",
    "from category_encoders import OrdinalEncoder, BinaryEncoder\n",
    "from sklearn.impute import SimpleImputer\n",
    "from sklearn.preprocessing import StandardScaler\n",
    "from sklearn.feature_selection import SelectKBest\n",
    "\n",
    "from sklearn.metrics import auc, f1_score, classification_report\n",
    "from sklearn.metrics import plot_confusion_matrix\n",
    "\n",
    "from sklearn.linear_model import LogisticRegression\n",
    "from sklearn.ensemble import RandomForestClassifier\n",
    "\n",
    "from sklearn.model_selection import GridSearchCV\n",
    "\n",
    "from sklearn.inspection import permutation_importance\n",
    "\n",
    "from sklearn.metrics import precision_recall_curve\n",
    "from sklearn.metrics import average_precision_score\n",
    "\n",
    "from pdpbox.pdp import pdp_isolate, pdp_plot\n",
    "from pdpbox.pdp import pdp_interact, pdp_interact_plot"
   ]
  },
  {
   "cell_type": "code",
   "execution_count": 14,
   "metadata": {},
   "outputs": [],
   "source": [
    "### Read in data\n",
    "pd.options.display.max_columns = None\n",
    "data_path = '../data/'\n",
    "\n",
    "def wrangle(filepath):\n",
    "    df = pd.read_csv(filepath,\n",
    "                     parse_dates = ['CP Date of Birth', 'Date First Office', 'Date FEPA Sent to EEOC',\n",
    "                              'Closure Date', 'Court Filing Date', 'Litigation Resolution Date'],\n",
    "                     thousands=',',\n",
    "                     index_col = 'Date First Office').sort_index()\n",
    "\n",
    "    ## Some dates parsed incorrectly (e.g. year is 2066 instead of 1966)\n",
    "\n",
    "    def fix_date(x):\n",
    "\n",
    "        if x.year >= 2009:\n",
    "            year = x.year - 100\n",
    "        else:\n",
    "            return x \n",
    "\n",
    "        return dt.date(year, x.month, x.day)\n",
    "\n",
    "    df['CP Date of Birth'] = df['CP Date of Birth'].apply(fix_date)\n",
    "    \n",
    "\n",
    "    ## Feature Engineering\n",
    "    ##     Age at time of filing\n",
    "    df['age'] = round((df.index - df['CP Date of Birth']).dt.days / 365)\n",
    "\n",
    "    ##     Appx Length of investigation\n",
    "    df['investigation_duration'] = (df['Closure Date'] - df.index).dt.days\n",
    "    \n",
    "    ## Pull industry code from NAICS Code:\n",
    "    df['NAICS Code'] = df['NAICS Code'].astype(str)\n",
    "    df['NAICS Code'] = df['NAICS Code'].str[0:2]\n",
    "\n",
    "    ## Split basis into (general) basis and basis_specific\n",
    "    df[['Basis', 'Basis_Specific']] = df['Basis'].str.split('-', 1, expand=True)\n",
    "    df.loc[(df.Basis == 'Equal Pay'),'Basis']='Sex'\n",
    "    df['Basis_Specific'].fillna(df['Basis'], inplace=True)\n",
    "    social = ['Retaliation', 'Race', 'Sex', 'Age', 'National Origin', \n",
    "              'Religion', 'Color', 'Post', 'Relationship/Assn.',\n",
    "              'Sexual Orientation', 'Ancestry', 'Conviction Record', 'Marital Status']\n",
    "    \n",
    "    neurological = ['Other Neurological', 'Epilepsy', 'Paralysis', 'Multiple Sclerosis',\n",
    "                    'Cerebral Palsy', 'Autism', 'Intellectual Disability', 'Learning Disability',\n",
    "                    'Brain/Head Impairment', 'Alzheimers']\n",
    "    \n",
    "    psychiatric = ['Other Psychiatric Disorders','Schizophrenia', 'Manic Depression (Bi',\n",
    "                   'Depression', 'Alcoholism', 'Drug Addiction', 'Other Anxiety Disorder']\n",
    "    \n",
    "    physical = ['Hearing Impairment', 'Speech Impairment', 'Vision Impairment',\n",
    "                'Nonparalytic Orthopedic Impairment', 'Orthopedic/Structural Back Impairment',\n",
    "                'Handicap (Not ADA)', 'Missing Digits/Limbs', 'Brain/Head Injury (Traumatic)', 'Disfigurement', \n",
    "                'Heart/Cardiovascular', 'Kidney Impairment', 'Cancer', 'Chemical Sensitivity', 'Diabetes',                               \n",
    "                'Gastrointestinal', 'Blood (Other)', 'HIV', \n",
    "                'Cumulative Trauma Disorder', 'Other Pulmo/Respiratory', 'Allergies', 'Asthma', 'Cystic Fibrosis',\n",
    "                'Dwarfism ','Tuberculosis']\n",
    "    genetic = ['Genetic Information Discrimination', 'Genetic Testing', 'Genetic Discrimination']\n",
    "    other = ['Other Disability', 'Record Of Disability', 'Regarded As Disabled']\n",
    "    def rebasis(val):\n",
    "        if val in neurological:\n",
    "            return 'Neurological Disability'\n",
    "        if val in psychiatric:\n",
    "            return 'Psychiatric Disability'\n",
    "        if val in physical:\n",
    "            return 'Physical Disability'\n",
    "        if val in genetic:\n",
    "            return 'Genetics'\n",
    "        if val in other:\n",
    "            return 'Other Disability'\n",
    "        if val in social:\n",
    "            return val\n",
    "        return 'Other'\n",
    "    df['Basis'] = df['Basis'].apply(rebasis)\n",
    "    \n",
    "    # Turn Monetary Benefits into binary for whether or not benefits received\n",
    "    df['Monetary Benefits'] = (df['Monetary Benefits'] > 0).astype(int)\n",
    "    \n",
    "    ## Use closure type to create the target, then drop closure type\n",
    "    no = ['No Cause Finding Issued','NRTS Issued At CP Request', 'Settlement With Benefits',\n",
    "                  'Withdrawal With Benefits', 'No Jurisdiction', 'CP Withdrawal - No Ben.',\n",
    "                  'Administrative Closure', 'CP Filed Suit', 'ADEA Sect. 7(D) Closure',\n",
    "                  'Closed Due To Court Decision']\n",
    "    yes = ['Conciliation Failure', 'Successful Conciliation','Respondent Bankruptcy'] \n",
    "\n",
    "    def reclass(val):\n",
    "        if val in no:\n",
    "            return 0\n",
    "        if val in yes:\n",
    "            return 1\n",
    "        return 99\n",
    "\n",
    "    df['decision'] = df['Closure Type'].apply(reclass)\n",
    "    \n",
    "    # need to drop rows with NaN in 'Closure Type'\n",
    "    # there are 113,813 rows with no closure type - unclear why\n",
    "    df = df.dropna(axis = 0, subset=['Closure Type'])\n",
    "    df.drop(columns='Closure Type', inplace=True)\n",
    "\n",
    "    df['Closure Date'] = df['Closure Date'].map(dt.datetime.toordinal)\n",
    "    \n",
    "    ## Impute categorical missing values:\n",
    "    most_freq_state = df['State Code'].value_counts().index[0]\n",
    "    df['State Code'].fillna(most_freq_state, inplace=True) #TX\n",
    "    df['No of Employees'].fillna('Unknown', inplace=True)\n",
    "    df['NAICS Description'].fillna('Unknown', inplace=True)\n",
    "    df['CP Sex'].fillna('Unknown', inplace=True)\n",
    "    df['Statute'].fillna('Other', inplace=True)\n",
    "    most_freq_inst_type = df['Institution Type'].value_counts().index[0]\n",
    "    df['Institution Type'].fillna(most_freq_inst_type, inplace=True) #Private Employer\n",
    "\n",
    "    ## Drop columns with too many missing values\n",
    "    df = df.dropna(axis=1, thresh=100_000) \n",
    "    \n",
    "    ## Drop redundant features\n",
    "    df = df.drop(columns=['Unique ID', 'No of Employees Code', 'Institution Type Code', \n",
    "                          'Closure Code', 'Statute Code', 'Basis Code', 'Issue Code', 'CP Date of Birth'])\n",
    "    ##Drop high-cardinality\n",
    "    df = df.drop(columns=['NAICS Description'])\n",
    "    \n",
    "    return df\n"
   ]
  },
  {
   "cell_type": "code",
   "execution_count": 15,
   "metadata": {},
   "outputs": [],
   "source": [
    "df = wrangle(data_path + 'buildweek/unit2build.csv')"
   ]
  },
  {
   "cell_type": "code",
   "execution_count": 16,
   "metadata": {},
   "outputs": [
    {
     "data": {
      "text/plain": [
       "State Code                 object\n",
       "No of Employees            object\n",
       "NAICS Code                 object\n",
       "Institution Type           object\n",
       "CP Sex                     object\n",
       "Closure Date                int64\n",
       "Monetary Benefits           int64\n",
       "Statute                    object\n",
       "Basis                      object\n",
       "Issue                      object\n",
       "age                       float64\n",
       "investigation_duration    float64\n",
       "Basis_Specific             object\n",
       "decision                    int64\n",
       "dtype: object"
      ]
     },
     "execution_count": 16,
     "metadata": {},
     "output_type": "execute_result"
    }
   ],
   "source": [
    "df.dtypes"
   ]
  },
  {
   "cell_type": "code",
   "execution_count": 17,
   "metadata": {},
   "outputs": [
    {
     "data": {
      "text/html": [
       "<div>\n",
       "<style scoped>\n",
       "    .dataframe tbody tr th:only-of-type {\n",
       "        vertical-align: middle;\n",
       "    }\n",
       "\n",
       "    .dataframe tbody tr th {\n",
       "        vertical-align: top;\n",
       "    }\n",
       "\n",
       "    .dataframe thead th {\n",
       "        text-align: right;\n",
       "    }\n",
       "</style>\n",
       "<table border=\"1\" class=\"dataframe\">\n",
       "  <thead>\n",
       "    <tr style=\"text-align: right;\">\n",
       "      <th></th>\n",
       "      <th>State Code</th>\n",
       "      <th>No of Employees</th>\n",
       "      <th>NAICS Code</th>\n",
       "      <th>Institution Type</th>\n",
       "      <th>CP Sex</th>\n",
       "      <th>Closure Date</th>\n",
       "      <th>Monetary Benefits</th>\n",
       "      <th>Statute</th>\n",
       "      <th>Basis</th>\n",
       "      <th>Issue</th>\n",
       "      <th>age</th>\n",
       "      <th>investigation_duration</th>\n",
       "      <th>Basis_Specific</th>\n",
       "      <th>decision</th>\n",
       "    </tr>\n",
       "    <tr>\n",
       "      <th>Date First Office</th>\n",
       "      <th></th>\n",
       "      <th></th>\n",
       "      <th></th>\n",
       "      <th></th>\n",
       "      <th></th>\n",
       "      <th></th>\n",
       "      <th></th>\n",
       "      <th></th>\n",
       "      <th></th>\n",
       "      <th></th>\n",
       "      <th></th>\n",
       "      <th></th>\n",
       "      <th></th>\n",
       "      <th></th>\n",
       "    </tr>\n",
       "  </thead>\n",
       "  <tbody>\n",
       "    <tr>\n",
       "      <th>2009-10-01</th>\n",
       "      <td>KS</td>\n",
       "      <td>Unknown</td>\n",
       "      <td>72</td>\n",
       "      <td>Private Employer</td>\n",
       "      <td>N</td>\n",
       "      <td>733828</td>\n",
       "      <td>0</td>\n",
       "      <td>ADEA</td>\n",
       "      <td>Retaliation</td>\n",
       "      <td>Constructive Discharge</td>\n",
       "      <td>58.0</td>\n",
       "      <td>147.0</td>\n",
       "      <td>Retaliation</td>\n",
       "      <td>0</td>\n",
       "    </tr>\n",
       "    <tr>\n",
       "      <th>2009-10-01</th>\n",
       "      <td>AZ</td>\n",
       "      <td>501+ Employees</td>\n",
       "      <td>72</td>\n",
       "      <td>Private Employer</td>\n",
       "      <td>M</td>\n",
       "      <td>733724</td>\n",
       "      <td>0</td>\n",
       "      <td>ADEA</td>\n",
       "      <td>Age</td>\n",
       "      <td>Hiring</td>\n",
       "      <td>61.0</td>\n",
       "      <td>43.0</td>\n",
       "      <td>Age</td>\n",
       "      <td>0</td>\n",
       "    </tr>\n",
       "    <tr>\n",
       "      <th>2009-10-01</th>\n",
       "      <td>AZ</td>\n",
       "      <td>501+ Employees</td>\n",
       "      <td>72</td>\n",
       "      <td>Private Employer</td>\n",
       "      <td>M</td>\n",
       "      <td>733724</td>\n",
       "      <td>0</td>\n",
       "      <td>ADEA</td>\n",
       "      <td>Age</td>\n",
       "      <td>Discharge</td>\n",
       "      <td>61.0</td>\n",
       "      <td>43.0</td>\n",
       "      <td>Age</td>\n",
       "      <td>0</td>\n",
       "    </tr>\n",
       "    <tr>\n",
       "      <th>2009-10-01</th>\n",
       "      <td>AR</td>\n",
       "      <td>15 - 100 Employees</td>\n",
       "      <td>na</td>\n",
       "      <td>Private Employer</td>\n",
       "      <td>F</td>\n",
       "      <td>733721</td>\n",
       "      <td>0</td>\n",
       "      <td>ADA</td>\n",
       "      <td>Retaliation</td>\n",
       "      <td>Discharge</td>\n",
       "      <td>45.0</td>\n",
       "      <td>40.0</td>\n",
       "      <td>Retaliation</td>\n",
       "      <td>0</td>\n",
       "    </tr>\n",
       "    <tr>\n",
       "      <th>2009-10-01</th>\n",
       "      <td>AR</td>\n",
       "      <td>15 - 100 Employees</td>\n",
       "      <td>na</td>\n",
       "      <td>Private Employer</td>\n",
       "      <td>F</td>\n",
       "      <td>733721</td>\n",
       "      <td>0</td>\n",
       "      <td>ADA</td>\n",
       "      <td>Retaliation</td>\n",
       "      <td>Harassment</td>\n",
       "      <td>45.0</td>\n",
       "      <td>40.0</td>\n",
       "      <td>Retaliation</td>\n",
       "      <td>0</td>\n",
       "    </tr>\n",
       "  </tbody>\n",
       "</table>\n",
       "</div>"
      ],
      "text/plain": [
       "                  State Code     No of Employees NAICS Code  Institution Type  \\\n",
       "Date First Office                                                               \n",
       "2009-10-01                KS             Unknown         72  Private Employer   \n",
       "2009-10-01                AZ      501+ Employees         72  Private Employer   \n",
       "2009-10-01                AZ      501+ Employees         72  Private Employer   \n",
       "2009-10-01                AR  15 - 100 Employees         na  Private Employer   \n",
       "2009-10-01                AR  15 - 100 Employees         na  Private Employer   \n",
       "\n",
       "                  CP Sex  Closure Date  Monetary Benefits Statute  \\\n",
       "Date First Office                                                   \n",
       "2009-10-01             N        733828                  0    ADEA   \n",
       "2009-10-01             M        733724                  0    ADEA   \n",
       "2009-10-01             M        733724                  0    ADEA   \n",
       "2009-10-01             F        733721                  0     ADA   \n",
       "2009-10-01             F        733721                  0     ADA   \n",
       "\n",
       "                         Basis                   Issue   age  \\\n",
       "Date First Office                                              \n",
       "2009-10-01         Retaliation  Constructive Discharge  58.0   \n",
       "2009-10-01                 Age                  Hiring  61.0   \n",
       "2009-10-01                 Age               Discharge  61.0   \n",
       "2009-10-01         Retaliation               Discharge  45.0   \n",
       "2009-10-01         Retaliation              Harassment  45.0   \n",
       "\n",
       "                   investigation_duration Basis_Specific  decision  \n",
       "Date First Office                                                   \n",
       "2009-10-01                          147.0    Retaliation         0  \n",
       "2009-10-01                           43.0            Age         0  \n",
       "2009-10-01                           43.0            Age         0  \n",
       "2009-10-01                           40.0    Retaliation         0  \n",
       "2009-10-01                           40.0    Retaliation         0  "
      ]
     },
     "execution_count": 17,
     "metadata": {},
     "output_type": "execute_result"
    }
   ],
   "source": [
    "df.head()"
   ]
  },
  {
   "cell_type": "code",
   "execution_count": 18,
   "metadata": {},
   "outputs": [
    {
     "data": {
      "text/plain": [
       "(230050, 14)"
      ]
     },
     "execution_count": 18,
     "metadata": {},
     "output_type": "execute_result"
    }
   ],
   "source": [
    "df.shape"
   ]
  },
  {
   "cell_type": "markdown",
   "metadata": {},
   "source": [
    "Possible Classes:\n",
    "\n",
    "- 0 - No discrimination\n",
    "- 1 - Discrimination\n",
    "\n",
    "Original Classes:\n",
    "- No Cause Finding Issued           0\n",
    "- NRTS Issued At CP Request         2*  \n",
    "- Settlement With Benefits          2\n",
    "- Withdrawal With Benefits          2\n",
    "- No Jurisdiction                   2\n",
    "- CP Withdrawal - No Ben.           2\n",
    "- Administrative Closure            2\n",
    "- Conciliation Failure              1 \n",
    "- CP Filed Suit                     2\n",
    "- Successful Conciliation           1\n",
    "- ADEA Sect. 7(D) Closure           2\n",
    "- Respondent Bankruptcy             1\n",
    "- Closed Due To Court Decision      2*\n",
    "\n",
    "\n",
    "**Only 'conciliation' is preceded by reasonable cause determined by the EEOC**\n"
   ]
  },
  {
   "cell_type": "code",
   "execution_count": 19,
   "metadata": {},
   "outputs": [
    {
     "data": {
      "text/plain": [
       "0    0.987264\n",
       "1    0.012736\n",
       "Name: decision, dtype: float64"
      ]
     },
     "execution_count": 19,
     "metadata": {},
     "output_type": "execute_result"
    }
   ],
   "source": [
    "df['decision'].value_counts(normalize=True)"
   ]
  },
  {
   "cell_type": "markdown",
   "metadata": {},
   "source": [
    "# Module 3"
   ]
  },
  {
   "cell_type": "markdown",
   "metadata": {},
   "source": [
    "For moderately-highly imbalanced data it is recommmended to use precision-recall curves to avoid an 'overly optimistic' ROC curve and misleading roc-auc scores. This may also explain the higher roc_auc score above.\n",
    "\n",
    "Also, when using precision-recall curves, we can use PR AUC scores instead. The difference between PR AUC is that it looks at the positive predictive value and true positive rate (rather than the true positive and false positive rates). Because the positive class of my dataset, 'cause-found' for discrimination, is also very small (~1%) it may be better to use the PR AUC than the ROC AUC.\n",
    "\n",
    "- https://machinelearningmastery.com/threshold-moving-for-imbalanced-classification/\n",
    "- https://machinelearningmastery.com/roc-curves-and-precision-recall-curves-for-classification-in-python/#:~:text=ROC%20Curves%20summarize%20the%20trade,model%20using%20different%20probability%20thresholds.&text=ROC%20curves%20are%20appropriate%20when,are%20appropriate%20for%20imbalanced%20datasets.\n",
    "- https://www.kaggle.com/lct14558/imbalanced-data-why-you-should-not-use-roc-curve\n",
    "- https://medium.com/data-science-in-your-pocket/calculating-precision-recall-for-multi-class-classification-9055931ee229\n",
    "- http://www.davidsbatista.net/blog/2018/08/19/NLP_Metrics/\n",
    "- https://neptune.ai/blog/f1-score-accuracy-roc-auc-pr-auc"
   ]
  },
  {
   "cell_type": "markdown",
   "metadata": {},
   "source": [
    "### Split the data (train, val, test)"
   ]
  },
  {
   "cell_type": "code",
   "execution_count": 20,
   "metadata": {},
   "outputs": [],
   "source": [
    "# Create feature matrix and target vector\n",
    "target = 'decision'\n",
    "y = df[target]\n",
    "X = df.drop(columns=target)"
   ]
  },
  {
   "cell_type": "code",
   "execution_count": 21,
   "metadata": {},
   "outputs": [],
   "source": [
    "# Split data into train, validation, and test sets\n",
    "\n",
    "cutoff1 = int(len(df)*0.6)\n",
    "cutoff2 = int(len(df)*0.8)\n",
    "\n",
    "X_train, y_train = X.iloc[0:cutoff1], y.iloc[0:cutoff1]\n",
    "X_val, y_val = X.iloc[cutoff1:cutoff2], y.iloc[cutoff1:cutoff2]\n",
    "X_test, y_test = X.iloc[cutoff2:], y.iloc[cutoff2:]\n",
    "\n",
    "assert len(X_train) + len(X_val) + len(X_test) == len(X)"
   ]
  },
  {
   "cell_type": "markdown",
   "metadata": {},
   "source": [
    "### Set the baseline: Precision Recall AUC score"
   ]
  },
  {
   "cell_type": "code",
   "execution_count": 22,
   "metadata": {},
   "outputs": [
    {
     "name": "stdout",
     "output_type": "stream",
     "text": [
      "Baseline Precision-Recall AUC score: 0.0127\n"
     ]
    }
   ],
   "source": [
    "# \"A no-skill model is represented by a horizontal line with a precision \n",
    "# that is the ratio of positive examples in the dataset \n",
    "# (e.g. TP / (TP + TN))\"\"\n",
    "# https://machinelearningmastery.com/threshold-moving-for-imbalanced-classification/\n",
    "\n",
    "print('Baseline Precision-Recall AUC score: {0:0.4f}'.format(y.value_counts(normalize=True)[1]))"
   ]
  },
  {
   "cell_type": "markdown",
   "metadata": {},
   "source": [
    "### Base Model - Logistic Regression"
   ]
  },
  {
   "cell_type": "markdown",
   "metadata": {},
   "source": [
    "**Preprocessing**"
   ]
  },
  {
   "cell_type": "code",
   "execution_count": 23,
   "metadata": {},
   "outputs": [],
   "source": [
    "num_cols = X.select_dtypes(exclude='object').columns\n",
    "ord_cat_cols = ['No of Employees']\n",
    "nom_cat_cols = ['State Code', 'NAICS Code','Institution Type', 'CP Sex', \n",
    "                'Statute', 'Basis', 'Basis_Specific', 'Monetary Benefits', \n",
    "                'Issue'] \n",
    "\n",
    "num_transformers = make_pipeline(SimpleImputer(),\n",
    "                                 StandardScaler())\n",
    "ord_cat_transformers = OrdinalEncoder()\n",
    "nom_cat_transformers = BinaryEncoder()"
   ]
  },
  {
   "cell_type": "code",
   "execution_count": 24,
   "metadata": {},
   "outputs": [],
   "source": [
    "preprocessing = ColumnTransformer(transformers = [\n",
    "    ('num', num_transformers, num_cols),\n",
    "    ('ord', ord_cat_transformers, ord_cat_cols),\n",
    "    ('nom', nom_cat_transformers, nom_cat_cols)])"
   ]
  },
  {
   "cell_type": "markdown",
   "metadata": {},
   "source": [
    "**Fit Logistic Regression Model with Training Data**"
   ]
  },
  {
   "cell_type": "code",
   "execution_count": 25,
   "metadata": {},
   "outputs": [],
   "source": [
    "model_log = make_pipeline(preprocessing,\n",
    "                         LogisticRegression())\n",
    "model_log.fit(X_train, y_train);"
   ]
  },
  {
   "cell_type": "code",
   "execution_count": 26,
   "metadata": {},
   "outputs": [
    {
     "data": {
      "image/png": "[encoded data removed]",
      "text/plain": [
       "<Figure size 432x288 with 1 Axes>"
      ]
     },
     "metadata": {
      "needs_background": "light"
     },
     "output_type": "display_data"
    },
    {
     "name": "stdout",
     "output_type": "stream",
     "text": [
      "Logistic: f1=0.498 auc=0.033\n"
     ]
    }
   ],
   "source": [
    "log_probs = model_log.predict_proba(X_val)\n",
    "log_probs = log_probs[:, 1]\n",
    "log_precision, log_recall, _ = precision_recall_curve(y_val, log_probs)\n",
    "\n",
    "plt.plot(log_recall, log_precision, marker='.', label='Logistic')\n",
    "plt.xlabel('Recall')\n",
    "plt.ylabel('Precision')\n",
    "plt.legend()\n",
    "plt.show()\n",
    "\n",
    "log_pred = model_log.predict(X_val)\n",
    "\n",
    "log_f1, log_auc = f1_score(y_val, log_pred, average='macro'), auc(log_recall, log_precision)\n",
    "print('Logistic: f1=%.3f auc=%.3f' % (log_f1, log_auc))\n"
   ]
  },
  {
   "cell_type": "markdown",
   "metadata": {},
   "source": [
    "**Tuning: Logistic Regression**"
   ]
  },
  {
   "cell_type": "code",
   "execution_count": 27,
   "metadata": {},
   "outputs": [],
   "source": [
    "model_logb = make_pipeline(preprocessing,\n",
    "                           SelectKBest(k=6),\n",
    "                           LogisticRegression(C=5,\n",
    "                                              solver='newton-cg'))\n",
    "# params = {\n",
    "#     'selectkbest__k': range(5, 13, 1),\n",
    "#     'logisticregression__solver': ['newton-cg', 'lbfgs', 'sag', 'saga'],\n",
    "#     'logisticregression__class_weight': [None, 'balanced'],\n",
    "#     'logisticregression__C': [0.01, 0.1, 1, 5, 10]\n",
    "# }\n",
    "\n",
    "# model_gs = GridSearchCV(\n",
    "#     estimator=model_logb,\n",
    "#     param_grid=params,\n",
    "#     scoring = 'f1_macro',\n",
    "#     cv=5,\n",
    "#     n_jobs=-1,\n",
    "#     verbose=1\n",
    "# )\n",
    "\n",
    "# model_gs.fit(X_train, y_train);\n",
    "# model_gs.best_estimator_"
   ]
  },
  {
   "cell_type": "code",
   "execution_count": 28,
   "metadata": {},
   "outputs": [],
   "source": [
    "model_logb.fit(X_train, y_train);"
   ]
  },
  {
   "cell_type": "code",
   "execution_count": 29,
   "metadata": {},
   "outputs": [
    {
     "data": {
      "image/png": "[encoded data removed]",
      "text/plain": [
       "<Figure size 432x288 with 1 Axes>"
      ]
     },
     "metadata": {
      "needs_background": "light"
     },
     "output_type": "display_data"
    },
    {
     "name": "stdout",
     "output_type": "stream",
     "text": [
      "Logistic: f1=0.498 auc=0.025\n"
     ]
    }
   ],
   "source": [
    "# Check evaluation metric\n",
    "logb_probs = model_logb.predict_proba(X_val)\n",
    "logb_probs = logb_probs[:, 1]\n",
    "logb_precision, logb_recall, _ = precision_recall_curve(y_val, logb_probs)\n",
    "\n",
    "plt.plot(logb_recall, logb_precision, marker='.', label='Logistic')\n",
    "# axis labels\n",
    "plt.xlabel('Recall')\n",
    "plt.ylabel('Precision')\n",
    "# show the legend\n",
    "plt.legend()\n",
    "# show the plot\n",
    "plt.show()\n",
    "\n",
    "logb_pred = model_logb.predict(X_val)\n",
    "\n",
    "logb_f1, logb_auc = f1_score(y_val, logb_pred, average='macro'), auc(logb_recall, logb_precision)\n",
    "# summarize scores\n",
    "print('Logistic: f1=%.3f auc=%.3f' % (logb_f1, logb_auc))\n"
   ]
  },
  {
   "cell_type": "code",
   "execution_count": 30,
   "metadata": {},
   "outputs": [],
   "source": [
    "model_log2 = make_pipeline(preprocessing,\n",
    "                           LogisticRegression(class_weight = 'balanced'))\n",
    "model_log2.fit(X_train, y_train);"
   ]
  },
  {
   "cell_type": "code",
   "execution_count": 31,
   "metadata": {},
   "outputs": [
    {
     "data": {
      "image/png": "[encoded data removed]",
      "text/plain": [
       "<Figure size 432x288 with 1 Axes>"
      ]
     },
     "metadata": {
      "needs_background": "light"
     },
     "output_type": "display_data"
    },
    {
     "name": "stdout",
     "output_type": "stream",
     "text": [
      "Logistic: f1=0.443 auc=0.034\n"
     ]
    }
   ],
   "source": [
    "log2_probs = model_log2.predict_proba(X_val)\n",
    "log2_probs = log2_probs[:, 1]\n",
    "log2_precision, log2_recall, _ = precision_recall_curve(y_val, log2_probs)\n",
    "\n",
    "plt.plot(log2_recall, log2_precision, marker='.', label='Logistic')\n",
    "\n",
    "plt.xlabel('Recall')\n",
    "plt.ylabel('Precision')\n",
    "plt.legend()\n",
    "plt.show()\n",
    "\n",
    "log2_pred = model_log2.predict(X_val)\n",
    "\n",
    "log2_f1, log2_auc = f1_score(y_val, log2_pred, average='macro'), auc(log2_recall, log2_precision)\n",
    "print('Logistic: f1=%.3f auc=%.3f' % (log2_f1, log2_auc))\n"
   ]
  },
  {
   "cell_type": "markdown",
   "metadata": {},
   "source": [
    "### Bagging Model - Random Forest"
   ]
  },
  {
   "cell_type": "code",
   "execution_count": 51,
   "metadata": {},
   "outputs": [],
   "source": [
    "model_rf = make_pipeline(preprocessing,\n",
    "                         RandomForestClassifier())\n",
    "\n",
    "model_rf.fit(X_train, y_train);"
   ]
  },
  {
   "cell_type": "code",
   "execution_count": 33,
   "metadata": {},
   "outputs": [
    {
     "data": {
      "image/png": "[encoded data removed]",
      "text/plain": [
       "<Figure size 432x288 with 1 Axes>"
      ]
     },
     "metadata": {
      "needs_background": "light"
     },
     "output_type": "display_data"
    },
    {
     "name": "stdout",
     "output_type": "stream",
     "text": [
      "Random Forest: f1=0.507 auc=0.092\n"
     ]
    }
   ],
   "source": [
    "rf_probs = model_rf.predict_proba(X_val)\n",
    "rf_probs = rf_probs[:, 1]\n",
    "rf_precision, rf_recall, _ = precision_recall_curve(y_val, rf_probs)\n",
    "\n",
    "plt.plot(rf_recall, rf_precision, marker='.', label='Random Forest')\n",
    "\n",
    "plt.xlabel('Recall')\n",
    "plt.ylabel('Precision')\n",
    "plt.legend()\n",
    "plt.show()\n",
    "\n",
    "rf_pred = model_rf.predict(X_val)\n",
    "\n",
    "rf_f1, rf_auc = f1_score(y_val, rf_pred, average='macro'), auc(rf_recall, rf_precision)\n",
    "print('Random Forest: f1=%.3f auc=%.3f' % (rf_f1, rf_auc))"
   ]
  },
  {
   "cell_type": "code",
   "execution_count": 36,
   "metadata": {},
   "outputs": [],
   "source": [
    "# params = {\n",
    "#     'randomforestclassifier__max_depth': [70, 100, 125],\n",
    "#     'randomforestclassifier__min_samples_leaf': [10, 15, 20],\n",
    "#     'randomforestclassifier__max_features': [9, 10, 11]\n",
    "# }\n",
    "\n",
    "# model_gs = GridSearchCV(\n",
    "#     estimator=model_rf2,\n",
    "#     param_grid=params,\n",
    "#     scoring = 'f1_macro',\n",
    "#     cv=5,\n",
    "#     n_jobs=-1,\n",
    "#     verbose=1\n",
    "# )\n",
    "\n",
    "# model_gs.fit(X_train, y_train);"
   ]
  },
  {
   "cell_type": "code",
   "execution_count": 37,
   "metadata": {},
   "outputs": [],
   "source": [
    "# model_gs.best_estimator_"
   ]
  },
  {
   "cell_type": "markdown",
   "metadata": {},
   "source": [
    "### Classification Reports"
   ]
  },
  {
   "cell_type": "code",
   "execution_count": 52,
   "metadata": {},
   "outputs": [
    {
     "name": "stdout",
     "output_type": "stream",
     "text": [
      "Base Model: \n",
      "               precision    recall  f1-score   support\n",
      "\n",
      "          No       1.00      1.00      1.00     45864\n",
      "         Yes       0.00      0.00      0.00       146\n",
      "\n",
      "    accuracy                           1.00     46010\n",
      "   macro avg       0.50      0.50      0.50     46010\n",
      "weighted avg       0.99      1.00      1.00     46010\n",
      "\n",
      "RandomForest on validation: \n",
      "               precision    recall  f1-score   support\n",
      "\n",
      "          No       0.99      1.00      1.00     45594\n",
      "         Yes       1.00      0.01      0.02       416\n",
      "\n",
      "    accuracy                           0.99     46010\n",
      "   macro avg       1.00      0.50      0.51     46010\n",
      "weighted avg       0.99      0.99      0.99     46010\n",
      "\n",
      "RandomForest on test: \n",
      "               precision    recall  f1-score   support\n",
      "\n",
      "          No       1.00      1.00      1.00     45864\n",
      "         Yes       1.00      0.03      0.05       146\n",
      "\n",
      "    accuracy                           1.00     46010\n",
      "   macro avg       1.00      0.51      0.53     46010\n",
      "weighted avg       1.00      1.00      1.00     46010\n",
      "\n"
     ]
    }
   ],
   "source": [
    "target_names = ['No', 'Yes']\n",
    "y_test_log = model_log.predict(X_test)\n",
    "log_class_report = classification_report(y_test, y_test_log, target_names=target_names)\n",
    "print('Base Model: \\n', log_class_report)\n",
    "\n",
    "y_test_rf = model_rf.predict(X_val)\n",
    "rf_class_report = classification_report(y_val, y_test_rf, target_names=target_names)\n",
    "print('RandomForest on validation: \\n', rf_class_report)\n",
    "\n",
    "y_test_rf = model_rf.predict(X_test)\n",
    "rf_class_report = classification_report(y_test, y_test_rf, target_names=target_names)\n",
    "print('RandomForest on test: \\n', rf_class_report)"
   ]
  },
  {
   "cell_type": "code",
   "execution_count": 50,
   "metadata": {},
   "outputs": [
    {
     "data": {
      "text/plain": [
       "<sklearn.metrics._plot.confusion_matrix.ConfusionMatrixDisplay at 0x10b036b20>"
      ]
     },
     "execution_count": 50,
     "metadata": {},
     "output_type": "execute_result"
    },
    {
     "data": {
      "image/png": "[encoded data removed]",
      "text/plain": [
       "<Figure size 432x288 with 2 Axes>"
      ]
     },
     "metadata": {
      "needs_background": "light"
     },
     "output_type": "display_data"
    },
    {
     "data": {
      "image/png": "[encoded data removed]",
      "text/plain": [
       "<Figure size 432x288 with 2 Axes>"
      ]
     },
     "metadata": {
      "needs_background": "light"
     },
     "output_type": "display_data"
    },
    {
     "data": {
      "image/png": "[encoded data removed]",
      "text/plain": [
       "<Figure size 432x288 with 2 Axes>"
      ]
     },
     "metadata": {
      "needs_background": "light"
     },
     "output_type": "display_data"
    }
   ],
   "source": [
    "plot_confusion_matrix(model_rf, X_val, y_val)\n",
    "plot_confusion_matrix(model_rf, X_test, y_test)"
   ]
  },
  {
   "cell_type": "markdown",
   "metadata": {},
   "source": [
    "**Permutation Importances**"
   ]
  },
  {
   "cell_type": "code",
   "execution_count": 40,
   "metadata": {},
   "outputs": [
    {
     "data": {
      "text/plain": [
       "{'importances_mean': array([9.56313845e-05, 7.38969789e-05, 6.08563356e-05, 1.73875245e-05,\n",
       "        3.47750489e-05, 8.69376223e-05, 1.30406433e-05, 2.17344056e-05,\n",
       "        8.25907411e-05, 6.52032167e-05, 3.47750489e-05, 7.38969789e-05,\n",
       "        8.25907411e-05]),\n",
       " 'importances_std': array([2.21648316e-05, 1.73875245e-05, 8.69376223e-06, 1.62645398e-05,\n",
       "        1.06476407e-05, 0.00000000e+00, 1.06476407e-05, 1.94398433e-05,\n",
       "        8.69376223e-06, 1.37460450e-05, 2.21648316e-05, 1.06476407e-05,\n",
       "        8.69376223e-06]),\n",
       " 'importances': array([[1.30406433e-04, 8.69376223e-05, 8.69376223e-05, 6.52032167e-05,\n",
       "         1.08672028e-04],\n",
       "        [6.52032167e-05, 8.69376223e-05, 8.69376223e-05, 8.69376223e-05,\n",
       "         4.34688111e-05],\n",
       "        [4.34688111e-05, 6.52032167e-05, 6.52032167e-05, 6.52032167e-05,\n",
       "         6.52032167e-05],\n",
       "        [2.17344056e-05, 0.00000000e+00, 4.34688111e-05, 2.17344056e-05,\n",
       "         0.00000000e+00],\n",
       "        [2.17344056e-05, 4.34688111e-05, 2.17344056e-05, 4.34688111e-05,\n",
       "         4.34688111e-05],\n",
       "        [8.69376223e-05, 8.69376223e-05, 8.69376223e-05, 8.69376223e-05,\n",
       "         8.69376223e-05],\n",
       "        [0.00000000e+00, 2.17344056e-05, 2.17344056e-05, 0.00000000e+00,\n",
       "         2.17344056e-05],\n",
       "        [4.34688111e-05, 0.00000000e+00, 2.17344056e-05, 0.00000000e+00,\n",
       "         4.34688111e-05],\n",
       "        [8.69376223e-05, 6.52032167e-05, 8.69376223e-05, 8.69376223e-05,\n",
       "         8.69376223e-05],\n",
       "        [8.69376223e-05, 6.52032167e-05, 6.52032167e-05, 4.34688111e-05,\n",
       "         6.52032167e-05],\n",
       "        [4.34688111e-05, 6.52032167e-05, 2.17344056e-05, 0.00000000e+00,\n",
       "         4.34688111e-05],\n",
       "        [8.69376223e-05, 6.52032167e-05, 6.52032167e-05, 8.69376223e-05,\n",
       "         6.52032167e-05],\n",
       "        [8.69376223e-05, 6.52032167e-05, 8.69376223e-05, 8.69376223e-05,\n",
       "         8.69376223e-05]])}"
      ]
     },
     "execution_count": 40,
     "metadata": {},
     "output_type": "execute_result"
    }
   ],
   "source": [
    "# Permutation Importances\n",
    "\n",
    "perm_imp = permutation_importance(model_rf,\n",
    "                                  X_val,\n",
    "                                  y_val,\n",
    "                                  n_jobs=-1)\n",
    "perm_imp"
   ]
  },
  {
   "cell_type": "code",
   "execution_count": 41,
   "metadata": {},
   "outputs": [
    {
     "data": {
      "text/html": [
       "<div>\n",
       "<style scoped>\n",
       "    .dataframe tbody tr th:only-of-type {\n",
       "        vertical-align: middle;\n",
       "    }\n",
       "\n",
       "    .dataframe tbody tr th {\n",
       "        vertical-align: top;\n",
       "    }\n",
       "\n",
       "    .dataframe thead th {\n",
       "        text-align: right;\n",
       "    }\n",
       "</style>\n",
       "<table border=\"1\" class=\"dataframe\">\n",
       "  <thead>\n",
       "    <tr style=\"text-align: right;\">\n",
       "      <th></th>\n",
       "      <th>importances_mean</th>\n",
       "      <th>importances_std</th>\n",
       "    </tr>\n",
       "  </thead>\n",
       "  <tbody>\n",
       "    <tr>\n",
       "      <th>State Code</th>\n",
       "      <td>0.000096</td>\n",
       "      <td>0.000022</td>\n",
       "    </tr>\n",
       "    <tr>\n",
       "      <th>No of Employees</th>\n",
       "      <td>0.000074</td>\n",
       "      <td>0.000017</td>\n",
       "    </tr>\n",
       "    <tr>\n",
       "      <th>NAICS Code</th>\n",
       "      <td>0.000061</td>\n",
       "      <td>0.000009</td>\n",
       "    </tr>\n",
       "    <tr>\n",
       "      <th>Institution Type</th>\n",
       "      <td>0.000017</td>\n",
       "      <td>0.000016</td>\n",
       "    </tr>\n",
       "    <tr>\n",
       "      <th>CP Sex</th>\n",
       "      <td>0.000035</td>\n",
       "      <td>0.000011</td>\n",
       "    </tr>\n",
       "    <tr>\n",
       "      <th>Closure Date</th>\n",
       "      <td>0.000087</td>\n",
       "      <td>0.000000</td>\n",
       "    </tr>\n",
       "    <tr>\n",
       "      <th>Monetary Benefits</th>\n",
       "      <td>0.000013</td>\n",
       "      <td>0.000011</td>\n",
       "    </tr>\n",
       "    <tr>\n",
       "      <th>Statute</th>\n",
       "      <td>0.000022</td>\n",
       "      <td>0.000019</td>\n",
       "    </tr>\n",
       "    <tr>\n",
       "      <th>Basis</th>\n",
       "      <td>0.000083</td>\n",
       "      <td>0.000009</td>\n",
       "    </tr>\n",
       "    <tr>\n",
       "      <th>Issue</th>\n",
       "      <td>0.000065</td>\n",
       "      <td>0.000014</td>\n",
       "    </tr>\n",
       "    <tr>\n",
       "      <th>age</th>\n",
       "      <td>0.000035</td>\n",
       "      <td>0.000022</td>\n",
       "    </tr>\n",
       "    <tr>\n",
       "      <th>investigation_duration</th>\n",
       "      <td>0.000074</td>\n",
       "      <td>0.000011</td>\n",
       "    </tr>\n",
       "    <tr>\n",
       "      <th>Basis_Specific</th>\n",
       "      <td>0.000083</td>\n",
       "      <td>0.000009</td>\n",
       "    </tr>\n",
       "  </tbody>\n",
       "</table>\n",
       "</div>"
      ],
      "text/plain": [
       "                        importances_mean  importances_std\n",
       "State Code                      0.000096         0.000022\n",
       "No of Employees                 0.000074         0.000017\n",
       "NAICS Code                      0.000061         0.000009\n",
       "Institution Type                0.000017         0.000016\n",
       "CP Sex                          0.000035         0.000011\n",
       "Closure Date                    0.000087         0.000000\n",
       "Monetary Benefits               0.000013         0.000011\n",
       "Statute                         0.000022         0.000019\n",
       "Basis                           0.000083         0.000009\n",
       "Issue                           0.000065         0.000014\n",
       "age                             0.000035         0.000022\n",
       "investigation_duration          0.000074         0.000011\n",
       "Basis_Specific                  0.000083         0.000009"
      ]
     },
     "execution_count": 41,
     "metadata": {},
     "output_type": "execute_result"
    }
   ],
   "source": [
    "pi_data = pd.DataFrame({'importances_mean':perm_imp['importances_mean'],\n",
    "                       'importances_std': perm_imp['importances_std']},\n",
    "                      index=X_val.columns)\n",
    "pi_data"
   ]
  },
  {
   "cell_type": "code",
   "execution_count": 42,
   "metadata": {},
   "outputs": [
    {
     "data": {
      "image/png": "[encoded data removed]",
      "text/plain": [
       "<Figure size 432x288 with 1 Axes>"
      ]
     },
     "metadata": {
      "needs_background": "light"
     },
     "output_type": "display_data"
    }
   ],
   "source": [
    "pi_data['importances_mean'].sort_values().plot(kind='barh')\n",
    "plt.xlabel('Permutation Importance')\n",
    "plt.ylabel('Feature')\n",
    "plt.title('Permutation Importances for Random Forest Model');"
   ]
  },
  {
   "cell_type": "markdown",
   "metadata": {},
   "source": [
    "### Partial Dependence Plots"
   ]
  },
  {
   "cell_type": "code",
   "execution_count": 43,
   "metadata": {},
   "outputs": [
    {
     "data": {
      "text/plain": [
       "(<Figure size 1080x684 with 2 Axes>,\n",
       " {'title_ax': <AxesSubplot:>, 'pdp_ax': <AxesSubplot:xlabel='Closure Date'>})"
      ]
     },
     "execution_count": 43,
     "metadata": {},
     "output_type": "execute_result"
    },
    {
     "data": {
      "image/png": "[encoded data removed]",
      "text/plain": [
       "<Figure size 1080x684 with 2 Axes>"
      ]
     },
     "metadata": {
      "needs_background": "light"
     },
     "output_type": "display_data"
    }
   ],
   "source": [
    "feature = 'Closure Date'\n",
    "isolate = pdp_isolate(model=model_rf,\n",
    "                      dataset=X_test,\n",
    "                      model_features=X_test.columns,\n",
    "                      feature=feature\n",
    ")\n",
    "\n",
    "pdp_plot(isolate,\n",
    "        feature_name=feature)"
   ]
  },
  {
   "cell_type": "code",
   "execution_count": 44,
   "metadata": {
    "scrolled": true
   },
   "outputs": [],
   "source": [
    "# X_test_enc = OrdinalEncoder().fit_transform(X_test)\n",
    "\n",
    "\n",
    "# feature = ['State Code', 'Closure Date']\n",
    "# interact = pdp_interact(model=model_rf,\n",
    "#                       dataset=X_test_enc,\n",
    "#                       model_features=X_test_enc.columns,\n",
    "#                       features=feature\n",
    "# )\n",
    "\n",
    "# pdp_interact_plot(interact, plot_type='grid',\n",
    "#                   feature_names=feature)"
   ]
  }
 ],
 "metadata": {
  "kernelspec": {
   "display_name": "Python 3",
   "language": "python",
   "name": "python3"
  },
  "language_info": {
   "codemirror_mode": {
    "name": "ipython",
    "version": 3
   },
   "file_extension": ".py",
   "mimetype": "text/x-python",
   "name": "python",
   "nbconvert_exporter": "python",
   "pygments_lexer": "ipython3",
   "version": "3.8.2"
  }
 },
 "nbformat": 4,
 "nbformat_minor": 1
}
